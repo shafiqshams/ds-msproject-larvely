{
 "cells": [
  {
   "cell_type": "markdown",
   "metadata": {},
   "source": [
    "# From psycoPG2 guide\n",
    "https://www.psycopg.org/docs/install.html#quick-install"
   ]
  },
  {
   "cell_type": "code",
   "execution_count": 3,
   "metadata": {},
   "outputs": [
    {
     "name": "stdout",
     "output_type": "stream",
     "text": [
      "Collecting psycopg2-binary\n",
      "  Downloading psycopg2_binary-2.8.6-cp38-cp38-win_amd64.whl (1.1 MB)\n",
      "Installing collected packages: psycopg2-binary\n",
      "Successfully installed psycopg2-binary-2.8.6\n"
     ]
    }
   ],
   "source": [
    "! pip install psycopg2-binary"
   ]
  },
  {
   "cell_type": "code",
   "execution_count": 34,
   "metadata": {},
   "outputs": [
    {
     "name": "stdout",
     "output_type": "stream",
     "text": [
      "Opened database successfully\n"
     ]
    }
   ],
   "source": [
    "import psycopg2\n",
    "\n",
    "conn = psycopg2.connect(database=\"marine\", user = \"postgres\", password = \"postgres\", host = \"127.0.0.1\", port = \"5432\")\n",
    "\n",
    "print(\"Opened database successfully\")"
   ]
  },
  {
   "cell_type": "code",
   "execution_count": 74,
   "metadata": {},
   "outputs": [],
   "source": [
    "# Open a cursor to perform database operations\n",
    "cur = conn.cursor()\n",
    "\n",
    "# Execute a query\n",
    "cur.execute('''SELECT obs, traj, mpa, distance, land, lat, lon, temp, \"time\", z FROM public.trajectories_stokes_subset_10000 where traj = 10020 order by obs limit 100;''')\n",
    "\n",
    "# Retrieve query results\n",
    "records_stokes = cur.fetchall()\n",
    "\n",
    "# Execute a query\n",
    "cur.execute('''SELECT obs, traj, mpa, distance, land, lat, lon, temp, \"time\", z FROM public.trajectories_nostokes_subset_10000 where traj = 10020 order by obs limit 100;''')\n",
    "\n",
    "# Retrieve query results\n",
    "records_nostokes = cur.fetchall()"
   ]
  },
  {
   "cell_type": "code",
   "execution_count": 76,
   "metadata": {},
   "outputs": [
    {
     "data": {
      "text/plain": [
       "[(0,\n",
       "  10020.0,\n",
       "  9.0,\n",
       "  0.0,\n",
       "  0.0,\n",
       "  36.66312,\n",
       "  -2.2422614,\n",
       "  26.90749,\n",
       "  datetime.datetime(2017, 7, 30, 0, 0),\n",
       "  1.0182366),\n",
       " (1,\n",
       "  10020.0,\n",
       "  9.0,\n",
       "  0.2917357,\n",
       "  0.0,\n",
       "  36.660603,\n",
       "  -2.2432003,\n",
       "  26.911613,\n",
       "  datetime.datetime(2017, 7, 30, 1, 0),\n",
       "  1.0182366)]"
      ]
     },
     "execution_count": 76,
     "metadata": {},
     "output_type": "execute_result"
    }
   ],
   "source": [
    "records_stokes[:2]"
   ]
  },
  {
   "cell_type": "code",
   "execution_count": 77,
   "metadata": {},
   "outputs": [
    {
     "data": {
      "text/plain": [
       "array([datetime.datetime(2017, 7, 30, 0, 0),\n",
       "       datetime.datetime(2017, 7, 30, 1, 0),\n",
       "       datetime.datetime(2017, 7, 30, 2, 0),\n",
       "       datetime.datetime(2017, 7, 30, 3, 0),\n",
       "       datetime.datetime(2017, 7, 30, 4, 0),\n",
       "       datetime.datetime(2017, 7, 30, 5, 0),\n",
       "       datetime.datetime(2017, 7, 30, 6, 0),\n",
       "       datetime.datetime(2017, 7, 30, 7, 0),\n",
       "       datetime.datetime(2017, 7, 30, 8, 0),\n",
       "       datetime.datetime(2017, 7, 30, 9, 0)], dtype=object)"
      ]
     },
     "execution_count": 77,
     "metadata": {},
     "output_type": "execute_result"
    }
   ],
   "source": [
    "import numpy as np\n",
    "\n",
    "arr = np.array(records_stokes)\n",
    "arr[:10,8]"
   ]
  },
  {
   "cell_type": "code",
   "execution_count": 78,
   "metadata": {},
   "outputs": [],
   "source": [
    "# Alternative using pandas, but not recommended for large data, numpy is much faster than pandas\n",
    "\n",
    "import pandas as pd\n",
    "\n",
    "df = pd.DataFrame(data=records, index=None, columns=[\"obs\", \"traj\", \"mpa\", \"distance\", \"land\", \"lat\", \"lon\", \"temp\", \"time\", \"z\"])"
   ]
  },
  {
   "cell_type": "code",
   "execution_count": 61,
   "metadata": {},
   "outputs": [
    {
     "data": {
      "text/html": [
       "<div>\n",
       "<style scoped>\n",
       "    .dataframe tbody tr th:only-of-type {\n",
       "        vertical-align: middle;\n",
       "    }\n",
       "\n",
       "    .dataframe tbody tr th {\n",
       "        vertical-align: top;\n",
       "    }\n",
       "\n",
       "    .dataframe thead th {\n",
       "        text-align: right;\n",
       "    }\n",
       "</style>\n",
       "<table border=\"1\" class=\"dataframe\">\n",
       "  <thead>\n",
       "    <tr style=\"text-align: right;\">\n",
       "      <th></th>\n",
       "      <th>obs</th>\n",
       "      <th>traj</th>\n",
       "      <th>mpa</th>\n",
       "      <th>distance</th>\n",
       "      <th>land</th>\n",
       "      <th>lat</th>\n",
       "      <th>lon</th>\n",
       "      <th>temp</th>\n",
       "      <th>time</th>\n",
       "      <th>z</th>\n",
       "    </tr>\n",
       "  </thead>\n",
       "  <tbody>\n",
       "    <tr>\n",
       "      <th>0</th>\n",
       "      <td>0</td>\n",
       "      <td>10020.0</td>\n",
       "      <td>9.0</td>\n",
       "      <td>0.000000</td>\n",
       "      <td>0.0</td>\n",
       "      <td>36.663120</td>\n",
       "      <td>-2.242261</td>\n",
       "      <td>26.907490</td>\n",
       "      <td>2017-07-30 00:00:00</td>\n",
       "      <td>1.018237</td>\n",
       "    </tr>\n",
       "    <tr>\n",
       "      <th>1</th>\n",
       "      <td>1</td>\n",
       "      <td>10020.0</td>\n",
       "      <td>9.0</td>\n",
       "      <td>0.291736</td>\n",
       "      <td>0.0</td>\n",
       "      <td>36.660603</td>\n",
       "      <td>-2.243200</td>\n",
       "      <td>26.911613</td>\n",
       "      <td>2017-07-30 01:00:00</td>\n",
       "      <td>1.018237</td>\n",
       "    </tr>\n",
       "    <tr>\n",
       "      <th>2</th>\n",
       "      <td>2</td>\n",
       "      <td>10020.0</td>\n",
       "      <td>9.0</td>\n",
       "      <td>0.589996</td>\n",
       "      <td>0.0</td>\n",
       "      <td>36.658070</td>\n",
       "      <td>-2.244318</td>\n",
       "      <td>26.915989</td>\n",
       "      <td>2017-07-30 02:00:00</td>\n",
       "      <td>1.018237</td>\n",
       "    </tr>\n",
       "    <tr>\n",
       "      <th>3</th>\n",
       "      <td>3</td>\n",
       "      <td>10020.0</td>\n",
       "      <td>9.0</td>\n",
       "      <td>0.896667</td>\n",
       "      <td>0.0</td>\n",
       "      <td>36.655506</td>\n",
       "      <td>-2.245601</td>\n",
       "      <td>26.920330</td>\n",
       "      <td>2017-07-30 03:00:00</td>\n",
       "      <td>1.018237</td>\n",
       "    </tr>\n",
       "    <tr>\n",
       "      <th>4</th>\n",
       "      <td>4</td>\n",
       "      <td>10020.0</td>\n",
       "      <td>9.0</td>\n",
       "      <td>1.211473</td>\n",
       "      <td>0.0</td>\n",
       "      <td>36.652916</td>\n",
       "      <td>-2.247041</td>\n",
       "      <td>26.924662</td>\n",
       "      <td>2017-07-30 04:00:00</td>\n",
       "      <td>1.018237</td>\n",
       "    </tr>\n",
       "    <tr>\n",
       "      <th>...</th>\n",
       "      <td>...</td>\n",
       "      <td>...</td>\n",
       "      <td>...</td>\n",
       "      <td>...</td>\n",
       "      <td>...</td>\n",
       "      <td>...</td>\n",
       "      <td>...</td>\n",
       "      <td>...</td>\n",
       "      <td>...</td>\n",
       "      <td>...</td>\n",
       "    </tr>\n",
       "    <tr>\n",
       "      <th>95</th>\n",
       "      <td>95</td>\n",
       "      <td>10020.0</td>\n",
       "      <td>0.0</td>\n",
       "      <td>56.454040</td>\n",
       "      <td>0.0</td>\n",
       "      <td>36.259796</td>\n",
       "      <td>-2.600499</td>\n",
       "      <td>26.166080</td>\n",
       "      <td>2017-08-02 23:00:00</td>\n",
       "      <td>1.018237</td>\n",
       "    </tr>\n",
       "    <tr>\n",
       "      <th>96</th>\n",
       "      <td>96</td>\n",
       "      <td>10020.0</td>\n",
       "      <td>0.0</td>\n",
       "      <td>57.303090</td>\n",
       "      <td>0.0</td>\n",
       "      <td>36.252472</td>\n",
       "      <td>-2.603234</td>\n",
       "      <td>26.157948</td>\n",
       "      <td>2017-08-03 00:00:00</td>\n",
       "      <td>1.018237</td>\n",
       "    </tr>\n",
       "    <tr>\n",
       "      <th>97</th>\n",
       "      <td>97</td>\n",
       "      <td>10020.0</td>\n",
       "      <td>0.0</td>\n",
       "      <td>58.147785</td>\n",
       "      <td>0.0</td>\n",
       "      <td>36.245148</td>\n",
       "      <td>-2.605795</td>\n",
       "      <td>26.153420</td>\n",
       "      <td>2017-08-03 01:00:00</td>\n",
       "      <td>1.018237</td>\n",
       "    </tr>\n",
       "    <tr>\n",
       "      <th>98</th>\n",
       "      <td>98</td>\n",
       "      <td>10020.0</td>\n",
       "      <td>0.0</td>\n",
       "      <td>58.986490</td>\n",
       "      <td>0.0</td>\n",
       "      <td>36.237858</td>\n",
       "      <td>-2.608258</td>\n",
       "      <td>26.149687</td>\n",
       "      <td>2017-08-03 02:00:00</td>\n",
       "      <td>1.018237</td>\n",
       "    </tr>\n",
       "    <tr>\n",
       "      <th>99</th>\n",
       "      <td>99</td>\n",
       "      <td>10020.0</td>\n",
       "      <td>0.0</td>\n",
       "      <td>59.818054</td>\n",
       "      <td>0.0</td>\n",
       "      <td>36.230630</td>\n",
       "      <td>-2.610697</td>\n",
       "      <td>26.146734</td>\n",
       "      <td>2017-08-03 03:00:00</td>\n",
       "      <td>1.018237</td>\n",
       "    </tr>\n",
       "  </tbody>\n",
       "</table>\n",
       "<p>100 rows × 10 columns</p>\n",
       "</div>"
      ],
      "text/plain": [
       "    obs     traj  mpa   distance  land        lat       lon       temp  \\\n",
       "0     0  10020.0  9.0   0.000000   0.0  36.663120 -2.242261  26.907490   \n",
       "1     1  10020.0  9.0   0.291736   0.0  36.660603 -2.243200  26.911613   \n",
       "2     2  10020.0  9.0   0.589996   0.0  36.658070 -2.244318  26.915989   \n",
       "3     3  10020.0  9.0   0.896667   0.0  36.655506 -2.245601  26.920330   \n",
       "4     4  10020.0  9.0   1.211473   0.0  36.652916 -2.247041  26.924662   \n",
       "..  ...      ...  ...        ...   ...        ...       ...        ...   \n",
       "95   95  10020.0  0.0  56.454040   0.0  36.259796 -2.600499  26.166080   \n",
       "96   96  10020.0  0.0  57.303090   0.0  36.252472 -2.603234  26.157948   \n",
       "97   97  10020.0  0.0  58.147785   0.0  36.245148 -2.605795  26.153420   \n",
       "98   98  10020.0  0.0  58.986490   0.0  36.237858 -2.608258  26.149687   \n",
       "99   99  10020.0  0.0  59.818054   0.0  36.230630 -2.610697  26.146734   \n",
       "\n",
       "                  time         z  \n",
       "0  2017-07-30 00:00:00  1.018237  \n",
       "1  2017-07-30 01:00:00  1.018237  \n",
       "2  2017-07-30 02:00:00  1.018237  \n",
       "3  2017-07-30 03:00:00  1.018237  \n",
       "4  2017-07-30 04:00:00  1.018237  \n",
       "..                 ...       ...  \n",
       "95 2017-08-02 23:00:00  1.018237  \n",
       "96 2017-08-03 00:00:00  1.018237  \n",
       "97 2017-08-03 01:00:00  1.018237  \n",
       "98 2017-08-03 02:00:00  1.018237  \n",
       "99 2017-08-03 03:00:00  1.018237  \n",
       "\n",
       "[100 rows x 10 columns]"
      ]
     },
     "execution_count": 61,
     "metadata": {},
     "output_type": "execute_result"
    }
   ],
   "source": [
    "df"
   ]
  }
 ],
 "metadata": {
  "kernelspec": {
   "display_name": "Python 3",
   "language": "python",
   "name": "python3"
  },
  "language_info": {
   "codemirror_mode": {
    "name": "ipython",
    "version": 3
   },
   "file_extension": ".py",
   "mimetype": "text/x-python",
   "name": "python",
   "nbconvert_exporter": "python",
   "pygments_lexer": "ipython3",
   "version": "3.8.5"
  }
 },
 "nbformat": 4,
 "nbformat_minor": 4
}
