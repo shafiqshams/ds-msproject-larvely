{
 "cells": [
  {
   "cell_type": "code",
   "execution_count": 18,
   "source": [
    "import pandas as pd\n",
    "import numpy as np\n",
    "import matplotlib.pyplot as plt\n",
    "from datetime import datetime as dt\n",
    "from sklearn.cluster import DBSCAN\n",
    "from sklearn.preprocessing import StandardScaler\n",
    "from pylab import rcParams\n",
    "from collections import Counter\n",
    "rcParams['figure.figsize'] = 14,6\n",
    "\n",
    "%matplotlib inline"
   ],
   "outputs": [],
   "metadata": {}
  },
  {
   "cell_type": "code",
   "execution_count": null,
   "source": [
    "def load_and_subset_trajectories(file_name, num_traj=300):\n",
    "\n",
    "    df = pd.read_csv(file_name)\n",
    "    #drop missing value\n",
    "    df = df.dropna()\n",
    "    df = df.reset_index(drop=True)\n",
    "    # the whole dataset is too big to open here.\n",
    "    # Let's subset to fewer random trajectories:\n",
    "#     for i in df:\n",
    "#         if df['land']>0 and df['temp'] !=0:\n",
    "#             df['temp'] = 0\n",
    "#     df = df.loc[(df[\"land\"] > 0) & (df[\"temp\"] != 0)] #drop rows that land > 0 and temp is not 0\n",
    "#     df[\"time\"] = df[\"time\"].pipe(convert_formats_to_datetimes, formats)\n",
    "    \n",
    "#    choose random trajectories \n",
    "    random_trajs = np.random.choice(\n",
    "        np.unique(df[\"traj\"]), num_traj, replace=False\n",
    "    )\n",
    "    traj_mask = df[\"traj\"].apply(lambda x: x in random_trajs)\n",
    "    df = df[traj_mask]\n",
    "#    choose trajectories based on certain period of time\n",
    "    \n",
    "    \n",
    "    return df"
   ],
   "outputs": [],
   "metadata": {}
  },
  {
   "cell_type": "code",
   "execution_count": 61,
   "source": [
    "data = pd.read_csv('march.csv')\n",
    "\n",
    "# df.rename(columns={\"lat\": \"x\",\"lon\": \"y\"},inplace=True)\n",
    "df = data.loc[data['obs'] < 24].copy()\n",
    "selected_columns = df[[\"lat\",\"lon\",\"time\"]]\n",
    "n_df = selected_columns.copy()\n",
    "n_df"
   ],
   "outputs": [
    {
     "output_type": "execute_result",
     "data": {
      "text/html": [
       "<div>\n",
       "<style scoped>\n",
       "    .dataframe tbody tr th:only-of-type {\n",
       "        vertical-align: middle;\n",
       "    }\n",
       "\n",
       "    .dataframe tbody tr th {\n",
       "        vertical-align: top;\n",
       "    }\n",
       "\n",
       "    .dataframe thead th {\n",
       "        text-align: right;\n",
       "    }\n",
       "</style>\n",
       "<table border=\"1\" class=\"dataframe\">\n",
       "  <thead>\n",
       "    <tr style=\"text-align: right;\">\n",
       "      <th></th>\n",
       "      <th>lat</th>\n",
       "      <th>lon</th>\n",
       "      <th>time</th>\n",
       "    </tr>\n",
       "  </thead>\n",
       "  <tbody>\n",
       "    <tr>\n",
       "      <th>0</th>\n",
       "      <td>43.288517</td>\n",
       "      <td>5.171321</td>\n",
       "      <td>2017-03-01 00:00:00</td>\n",
       "    </tr>\n",
       "    <tr>\n",
       "      <th>1</th>\n",
       "      <td>43.296562</td>\n",
       "      <td>4.982898</td>\n",
       "      <td>2017-03-05 00:00:00</td>\n",
       "    </tr>\n",
       "    <tr>\n",
       "      <th>2</th>\n",
       "      <td>43.294650</td>\n",
       "      <td>4.962841</td>\n",
       "      <td>2017-03-10 00:00:00</td>\n",
       "    </tr>\n",
       "    <tr>\n",
       "      <th>3</th>\n",
       "      <td>43.280422</td>\n",
       "      <td>5.100956</td>\n",
       "      <td>2017-03-14 00:00:00</td>\n",
       "    </tr>\n",
       "    <tr>\n",
       "      <th>4</th>\n",
       "      <td>43.294853</td>\n",
       "      <td>5.134313</td>\n",
       "      <td>2017-03-19 00:00:00</td>\n",
       "    </tr>\n",
       "    <tr>\n",
       "      <th>...</th>\n",
       "      <td>...</td>\n",
       "      <td>...</td>\n",
       "      <td>...</td>\n",
       "    </tr>\n",
       "    <tr>\n",
       "      <th>48715</th>\n",
       "      <td>36.733727</td>\n",
       "      <td>-1.637864</td>\n",
       "      <td>2017-03-23 23:00:00</td>\n",
       "    </tr>\n",
       "    <tr>\n",
       "      <th>48716</th>\n",
       "      <td>36.716335</td>\n",
       "      <td>-2.066488</td>\n",
       "      <td>2017-03-25 23:00:00</td>\n",
       "    </tr>\n",
       "    <tr>\n",
       "      <th>48717</th>\n",
       "      <td>37.008602</td>\n",
       "      <td>-1.777075</td>\n",
       "      <td>2017-03-27 23:00:00</td>\n",
       "    </tr>\n",
       "    <tr>\n",
       "      <th>48718</th>\n",
       "      <td>36.886290</td>\n",
       "      <td>-1.952840</td>\n",
       "      <td>2017-03-29 23:00:00</td>\n",
       "    </tr>\n",
       "    <tr>\n",
       "      <th>48719</th>\n",
       "      <td>36.782940</td>\n",
       "      <td>-2.061576</td>\n",
       "      <td>2017-03-31 23:00:00</td>\n",
       "    </tr>\n",
       "  </tbody>\n",
       "</table>\n",
       "<p>48720 rows × 3 columns</p>\n",
       "</div>"
      ],
      "text/plain": [
       "             lat       lon                 time\n",
       "0      43.288517  5.171321  2017-03-01 00:00:00\n",
       "1      43.296562  4.982898  2017-03-05 00:00:00\n",
       "2      43.294650  4.962841  2017-03-10 00:00:00\n",
       "3      43.280422  5.100956  2017-03-14 00:00:00\n",
       "4      43.294853  5.134313  2017-03-19 00:00:00\n",
       "...          ...       ...                  ...\n",
       "48715  36.733727 -1.637864  2017-03-23 23:00:00\n",
       "48716  36.716335 -2.066488  2017-03-25 23:00:00\n",
       "48717  37.008602 -1.777075  2017-03-27 23:00:00\n",
       "48718  36.886290 -1.952840  2017-03-29 23:00:00\n",
       "48719  36.782940 -2.061576  2017-03-31 23:00:00\n",
       "\n",
       "[48720 rows x 3 columns]"
      ]
     },
     "metadata": {},
     "execution_count": 61
    }
   ],
   "metadata": {}
  },
  {
   "cell_type": "code",
   "execution_count": 62,
   "source": [
    "n_df.info()\n"
   ],
   "outputs": [
    {
     "output_type": "stream",
     "name": "stdout",
     "text": [
      "<class 'pandas.core.frame.DataFrame'>\n",
      "Int64Index: 48720 entries, 0 to 48719\n",
      "Data columns (total 3 columns):\n",
      " #   Column  Non-Null Count  Dtype  \n",
      "---  ------  --------------  -----  \n",
      " 0   lat     48720 non-null  float64\n",
      " 1   lon     48720 non-null  float64\n",
      " 2   time    48720 non-null  object \n",
      "dtypes: float64(2), object(1)\n",
      "memory usage: 1.5+ MB\n"
     ]
    }
   ],
   "metadata": {}
  },
  {
   "cell_type": "code",
   "execution_count": 63,
   "source": [
    "data"
   ],
   "outputs": [
    {
     "output_type": "execute_result",
     "data": {
      "text/html": [
       "<div>\n",
       "<style scoped>\n",
       "    .dataframe tbody tr th:only-of-type {\n",
       "        vertical-align: middle;\n",
       "    }\n",
       "\n",
       "    .dataframe tbody tr th {\n",
       "        vertical-align: top;\n",
       "    }\n",
       "\n",
       "    .dataframe thead th {\n",
       "        text-align: right;\n",
       "    }\n",
       "</style>\n",
       "<table border=\"1\" class=\"dataframe\">\n",
       "  <thead>\n",
       "    <tr style=\"text-align: right;\">\n",
       "      <th></th>\n",
       "      <th>obs</th>\n",
       "      <th>traj</th>\n",
       "      <th>MPA</th>\n",
       "      <th>distance</th>\n",
       "      <th>land</th>\n",
       "      <th>lat</th>\n",
       "      <th>lon</th>\n",
       "      <th>temp</th>\n",
       "      <th>time</th>\n",
       "      <th>z</th>\n",
       "    </tr>\n",
       "  </thead>\n",
       "  <tbody>\n",
       "    <tr>\n",
       "      <th>0</th>\n",
       "      <td>0</td>\n",
       "      <td>0</td>\n",
       "      <td>1.0</td>\n",
       "      <td>0.00000</td>\n",
       "      <td>0.000000</td>\n",
       "      <td>43.288517</td>\n",
       "      <td>5.171321</td>\n",
       "      <td>13.421764</td>\n",
       "      <td>2017-03-01 00:00:00</td>\n",
       "      <td>1.018237</td>\n",
       "    </tr>\n",
       "    <tr>\n",
       "      <th>1</th>\n",
       "      <td>0</td>\n",
       "      <td>1</td>\n",
       "      <td>1.0</td>\n",
       "      <td>0.00000</td>\n",
       "      <td>0.000000</td>\n",
       "      <td>43.296562</td>\n",
       "      <td>4.982898</td>\n",
       "      <td>12.984367</td>\n",
       "      <td>2017-03-05 00:00:00</td>\n",
       "      <td>1.018237</td>\n",
       "    </tr>\n",
       "    <tr>\n",
       "      <th>2</th>\n",
       "      <td>0</td>\n",
       "      <td>2</td>\n",
       "      <td>1.0</td>\n",
       "      <td>0.00000</td>\n",
       "      <td>0.000000</td>\n",
       "      <td>43.294650</td>\n",
       "      <td>4.962841</td>\n",
       "      <td>13.468207</td>\n",
       "      <td>2017-03-10 00:00:00</td>\n",
       "      <td>1.018237</td>\n",
       "    </tr>\n",
       "    <tr>\n",
       "      <th>3</th>\n",
       "      <td>0</td>\n",
       "      <td>3</td>\n",
       "      <td>1.0</td>\n",
       "      <td>0.00000</td>\n",
       "      <td>0.000000</td>\n",
       "      <td>43.280422</td>\n",
       "      <td>5.100956</td>\n",
       "      <td>13.317587</td>\n",
       "      <td>2017-03-14 00:00:00</td>\n",
       "      <td>1.018237</td>\n",
       "    </tr>\n",
       "    <tr>\n",
       "      <th>4</th>\n",
       "      <td>0</td>\n",
       "      <td>4</td>\n",
       "      <td>1.0</td>\n",
       "      <td>0.00000</td>\n",
       "      <td>0.000000</td>\n",
       "      <td>43.294853</td>\n",
       "      <td>5.134313</td>\n",
       "      <td>13.718286</td>\n",
       "      <td>2017-03-19 00:00:00</td>\n",
       "      <td>1.018237</td>\n",
       "    </tr>\n",
       "    <tr>\n",
       "      <th>...</th>\n",
       "      <td>...</td>\n",
       "      <td>...</td>\n",
       "      <td>...</td>\n",
       "      <td>...</td>\n",
       "      <td>...</td>\n",
       "      <td>...</td>\n",
       "      <td>...</td>\n",
       "      <td>...</td>\n",
       "      <td>...</td>\n",
       "      <td>...</td>\n",
       "    </tr>\n",
       "    <tr>\n",
       "      <th>779491</th>\n",
       "      <td>743</td>\n",
       "      <td>9180</td>\n",
       "      <td>0.0</td>\n",
       "      <td>760.41320</td>\n",
       "      <td>0.000000</td>\n",
       "      <td>36.750824</td>\n",
       "      <td>1.234207</td>\n",
       "      <td>15.911005</td>\n",
       "      <td>2017-03-31 23:00:00</td>\n",
       "      <td>1.018237</td>\n",
       "    </tr>\n",
       "    <tr>\n",
       "      <th>779492</th>\n",
       "      <td>743</td>\n",
       "      <td>9741</td>\n",
       "      <td>10.0</td>\n",
       "      <td>805.02730</td>\n",
       "      <td>0.936216</td>\n",
       "      <td>35.916252</td>\n",
       "      <td>0.077910</td>\n",
       "      <td>1.040119</td>\n",
       "      <td>2017-03-31 23:00:00</td>\n",
       "      <td>1.018237</td>\n",
       "    </tr>\n",
       "    <tr>\n",
       "      <th>779493</th>\n",
       "      <td>743</td>\n",
       "      <td>9811</td>\n",
       "      <td>10.0</td>\n",
       "      <td>424.15085</td>\n",
       "      <td>0.677286</td>\n",
       "      <td>35.075947</td>\n",
       "      <td>-2.248944</td>\n",
       "      <td>5.438546</td>\n",
       "      <td>2017-03-31 23:00:00</td>\n",
       "      <td>1.018237</td>\n",
       "    </tr>\n",
       "    <tr>\n",
       "      <th>779494</th>\n",
       "      <td>743</td>\n",
       "      <td>9881</td>\n",
       "      <td>10.0</td>\n",
       "      <td>414.81730</td>\n",
       "      <td>0.999941</td>\n",
       "      <td>35.221684</td>\n",
       "      <td>-1.583336</td>\n",
       "      <td>0.000952</td>\n",
       "      <td>2017-03-31 23:00:00</td>\n",
       "      <td>1.018237</td>\n",
       "    </tr>\n",
       "    <tr>\n",
       "      <th>779495</th>\n",
       "      <td>743</td>\n",
       "      <td>9951</td>\n",
       "      <td>10.0</td>\n",
       "      <td>518.45250</td>\n",
       "      <td>0.000000</td>\n",
       "      <td>35.538450</td>\n",
       "      <td>-2.893063</td>\n",
       "      <td>16.208822</td>\n",
       "      <td>2017-03-31 23:00:00</td>\n",
       "      <td>1.018237</td>\n",
       "    </tr>\n",
       "  </tbody>\n",
       "</table>\n",
       "<p>779496 rows × 10 columns</p>\n",
       "</div>"
      ],
      "text/plain": [
       "        obs  traj   MPA   distance      land        lat       lon       temp  \\\n",
       "0         0     0   1.0    0.00000  0.000000  43.288517  5.171321  13.421764   \n",
       "1         0     1   1.0    0.00000  0.000000  43.296562  4.982898  12.984367   \n",
       "2         0     2   1.0    0.00000  0.000000  43.294650  4.962841  13.468207   \n",
       "3         0     3   1.0    0.00000  0.000000  43.280422  5.100956  13.317587   \n",
       "4         0     4   1.0    0.00000  0.000000  43.294853  5.134313  13.718286   \n",
       "...     ...   ...   ...        ...       ...        ...       ...        ...   \n",
       "779491  743  9180   0.0  760.41320  0.000000  36.750824  1.234207  15.911005   \n",
       "779492  743  9741  10.0  805.02730  0.936216  35.916252  0.077910   1.040119   \n",
       "779493  743  9811  10.0  424.15085  0.677286  35.075947 -2.248944   5.438546   \n",
       "779494  743  9881  10.0  414.81730  0.999941  35.221684 -1.583336   0.000952   \n",
       "779495  743  9951  10.0  518.45250  0.000000  35.538450 -2.893063  16.208822   \n",
       "\n",
       "                       time         z  \n",
       "0       2017-03-01 00:00:00  1.018237  \n",
       "1       2017-03-05 00:00:00  1.018237  \n",
       "2       2017-03-10 00:00:00  1.018237  \n",
       "3       2017-03-14 00:00:00  1.018237  \n",
       "4       2017-03-19 00:00:00  1.018237  \n",
       "...                     ...       ...  \n",
       "779491  2017-03-31 23:00:00  1.018237  \n",
       "779492  2017-03-31 23:00:00  1.018237  \n",
       "779493  2017-03-31 23:00:00  1.018237  \n",
       "779494  2017-03-31 23:00:00  1.018237  \n",
       "779495  2017-03-31 23:00:00  1.018237  \n",
       "\n",
       "[779496 rows x 10 columns]"
      ]
     },
     "metadata": {},
     "execution_count": 63
    }
   ],
   "metadata": {}
  },
  {
   "cell_type": "code",
   "execution_count": 64,
   "source": [
    "_ = plt.plot(n_df['lat'],n_df['lon'], marker='.', linewidth=0, color='#128128')\n",
    "_ = plt.grid(which='major', color='#cccccc', alpha=0.45)\n",
    "_ = plt.title('Geographical distribution of Trajectories', family='Arial',fontsize=12)\n",
    "_ = plt.xlabel('Latitude')\n",
    "_ = plt.ylabel('Lontitude')\n",
    "_ = plt.show()"
   ],
   "outputs": [
    {
     "output_type": "display_data",
     "data": {
      "image/png": "[encoded data removed]",
      "text/plain": [
       "<Figure size 432x288 with 1 Axes>"
      ]
     },
     "metadata": {
      "needs_background": "light"
     }
    }
   ],
   "metadata": {}
  },
  {
   "cell_type": "code",
   "execution_count": 65,
   "source": [
    "dbscan_data = n_df[['lat','lon']]\n",
    "dbscan_data = dbscan_data.values.astype('float32',copy=False)\n",
    "dbscan_data\n"
   ],
   "outputs": [
    {
     "output_type": "execute_result",
     "data": {
      "text/plain": [
       "array([[43.288517 ,  5.171321 ],\n",
       "       [43.296562 ,  4.9828978],\n",
       "       [43.29465  ,  4.962841 ],\n",
       "       ...,\n",
       "       [37.008602 , -1.7770749],\n",
       "       [36.88629  , -1.9528403],\n",
       "       [36.78294  , -2.0615764]], dtype=float32)"
      ]
     },
     "metadata": {},
     "execution_count": 65
    }
   ],
   "metadata": {}
  },
  {
   "cell_type": "code",
   "execution_count": 66,
   "source": [
    "dbscan_data_scaler = StandardScaler().fit(dbscan_data)\n",
    "dbscan_data = dbscan_data_scaler.transform(dbscan_data)\n",
    "dbscan_data "
   ],
   "outputs": [
    {
     "output_type": "execute_result",
     "data": {
      "text/plain": [
       "array([[ 1.5175915,  1.3090818],\n",
       "       [ 1.5209985,  1.2403255],\n",
       "       [ 1.5201892,  1.2330066],\n",
       "       ...,\n",
       "       [-1.1418393, -1.2264167],\n",
       "       [-1.1936357, -1.2905542],\n",
       "       [-1.2374032, -1.3302324]], dtype=float32)"
      ]
     },
     "metadata": {},
     "execution_count": 66
    }
   ],
   "metadata": {}
  },
  {
   "cell_type": "code",
   "execution_count": 67,
   "source": [
    "'''\n",
    "    min_samples: min # of data points in a neighborhood\n",
    "    eps: in radius\n",
    "'''\n",
    "\n",
    "model = DBSCAN(eps = 0.1, min_samples = 10, metric='euclidean').\\\n",
    "    fit(dbscan_data)\n",
    "model"
   ],
   "outputs": [
    {
     "output_type": "execute_result",
     "data": {
      "text/plain": [
       "DBSCAN(eps=0.1, min_samples=10)"
      ]
     },
     "metadata": {},
     "execution_count": 67
    }
   ],
   "metadata": {}
  },
  {
   "cell_type": "code",
   "execution_count": 68,
   "source": [
    "#separate outliers from clustered data\n",
    "outliers_df = n_df[model.labels_ == -1]\n",
    "clusters_df = n_df[model.labels_ != -1]\n",
    "\n",
    "colors = model.labels_\n",
    "colors_clusters = colors[colors != -1]\n",
    "color_outliers = 'black'\n",
    "\n",
    "#get info about the clusters\n",
    "clusters = Counter(model.labels_)\n",
    "print(clusters)\n",
    "print(n_df[model.labels_ == -1].head())\n",
    "print('Number of clusters = {}'.format(len(clusters)-1))"
   ],
   "outputs": [
    {
     "output_type": "stream",
     "name": "stdout",
     "text": [
      "Counter({6: 13632, 1: 8280, 3: 7752, 0: 6600, 5: 4752, 4: 4176, 2: 3528})\n",
      "Empty DataFrame\n",
      "Columns: [lat, lon, time]\n",
      "Index: []\n",
      "Number of clusters = 6\n"
     ]
    }
   ],
   "metadata": {}
  },
  {
   "cell_type": "code",
   "execution_count": 69,
   "source": [
    "fig = plt.figure()\n",
    "\n",
    "ax = fig.add_axes([.1,.1,1,1])\n",
    "\n",
    "ax.scatter(clusters_df['lat'],clusters_df['lon'], c = colors_clusters, edgecolor = 'black', s=50)\n",
    "# ax.scatter(outliers_df['lat'],outliers_df['lon'], c = colors_clusters, edgecolor = 'black', s=50)\n",
    "\n",
    "ax.set_xlabel('Latitude', fontsize = 9)\n",
    "ax.set_ylabel('Longtitude', fontsize = 9)\n",
    "\n",
    "plt.title('Cluster Coordination by DBSCAN', fontsize=12)\n",
    "\n",
    "# plt.grid(which='major', color='#cccccc', alpha=0.45)\n",
    "\n",
    "plt.show()"
   ],
   "outputs": [
    {
     "output_type": "display_data",
     "data": {
      "image/png": "[encoded data removed]",
      "text/plain": [
       "<Figure size 432x288 with 1 Axes>"
      ]
     },
     "metadata": {
      "needs_background": "light"
     }
    }
   ],
   "metadata": {}
  }
 ],
 "metadata": {
  "kernelspec": {
   "name": "python3",
   "display_name": "Python 3.8.5 64-bit ('base': conda)"
  },
  "language_info": {
   "codemirror_mode": {
    "name": "ipython",
    "version": 3
   },
   "file_extension": ".py",
   "mimetype": "text/x-python",
   "name": "python",
   "nbconvert_exporter": "python",
   "pygments_lexer": "ipython3",
   "version": "3.8.5"
  },
  "interpreter": {
   "hash": "6bb592209296cd01c15104ad459fec7efda459241065ece1923d14d5c00ced46"
  }
 },
 "nbformat": 4,
 "nbformat_minor": 4
}