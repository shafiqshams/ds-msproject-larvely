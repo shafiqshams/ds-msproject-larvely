{
 "cells": [
  {
   "cell_type": "code",
   "execution_count": 1,
   "source": [
    "import pandas as pd\n",
    "import numpy as np\n",
    "from datetime import datetime as dt\n",
    "from functools import reduce\n",
    "import sklearn.cluster"
   ],
   "outputs": [],
   "metadata": {}
  },
  {
   "cell_type": "code",
   "execution_count": 2,
   "source": [
    "data = pd.read_csv('april.csv')\n",
    "selected_columns = data[[\"lat\",\"lon\"]]\n",
    "df = selected_columns.copy()\n",
    "df.rename(columns={\"lat\": \"x\",\"lon\": \"y\"},inplace=True)\n",
    "df"
   ],
   "outputs": [
    {
     "output_type": "execute_result",
     "data": {
      "text/html": [
       "<div>\n",
       "<style scoped>\n",
       "    .dataframe tbody tr th:only-of-type {\n",
       "        vertical-align: middle;\n",
       "    }\n",
       "\n",
       "    .dataframe tbody tr th {\n",
       "        vertical-align: top;\n",
       "    }\n",
       "\n",
       "    .dataframe thead th {\n",
       "        text-align: right;\n",
       "    }\n",
       "</style>\n",
       "<table border=\"1\" class=\"dataframe\">\n",
       "  <thead>\n",
       "    <tr style=\"text-align: right;\">\n",
       "      <th></th>\n",
       "      <th>x</th>\n",
       "      <th>y</th>\n",
       "    </tr>\n",
       "  </thead>\n",
       "  <tbody>\n",
       "    <tr>\n",
       "      <th>0</th>\n",
       "      <td>43.313885</td>\n",
       "      <td>5.310405</td>\n",
       "    </tr>\n",
       "    <tr>\n",
       "      <th>1</th>\n",
       "      <td>43.317220</td>\n",
       "      <td>5.148351</td>\n",
       "    </tr>\n",
       "    <tr>\n",
       "      <th>2</th>\n",
       "      <td>43.319576</td>\n",
       "      <td>5.005091</td>\n",
       "    </tr>\n",
       "    <tr>\n",
       "      <th>3</th>\n",
       "      <td>43.313610</td>\n",
       "      <td>5.047891</td>\n",
       "    </tr>\n",
       "    <tr>\n",
       "      <th>4</th>\n",
       "      <td>42.478610</td>\n",
       "      <td>3.178551</td>\n",
       "    </tr>\n",
       "    <tr>\n",
       "      <th>...</th>\n",
       "      <td>...</td>\n",
       "      <td>...</td>\n",
       "    </tr>\n",
       "    <tr>\n",
       "      <th>895295</th>\n",
       "      <td>36.853916</td>\n",
       "      <td>-2.343572</td>\n",
       "    </tr>\n",
       "    <tr>\n",
       "      <th>895296</th>\n",
       "      <td>36.997654</td>\n",
       "      <td>-1.916665</td>\n",
       "    </tr>\n",
       "    <tr>\n",
       "      <th>895297</th>\n",
       "      <td>36.885460</td>\n",
       "      <td>-1.999998</td>\n",
       "    </tr>\n",
       "    <tr>\n",
       "      <th>895298</th>\n",
       "      <td>36.850796</td>\n",
       "      <td>-2.503893</td>\n",
       "    </tr>\n",
       "    <tr>\n",
       "      <th>895299</th>\n",
       "      <td>36.812992</td>\n",
       "      <td>-2.250006</td>\n",
       "    </tr>\n",
       "  </tbody>\n",
       "</table>\n",
       "<p>895300 rows × 2 columns</p>\n",
       "</div>"
      ],
      "text/plain": [
       "                x         y\n",
       "0       43.313885  5.310405\n",
       "1       43.317220  5.148351\n",
       "2       43.319576  5.005091\n",
       "3       43.313610  5.047891\n",
       "4       42.478610  3.178551\n",
       "...           ...       ...\n",
       "895295  36.853916 -2.343572\n",
       "895296  36.997654 -1.916665\n",
       "895297  36.885460 -1.999998\n",
       "895298  36.850796 -2.503893\n",
       "895299  36.812992 -2.250006\n",
       "\n",
       "[895300 rows x 2 columns]"
      ]
     },
     "metadata": {},
     "execution_count": 2
    }
   ],
   "metadata": {}
  },
  {
   "cell_type": "code",
   "execution_count": 3,
   "source": [
    "df.plot.scatter(x=\"x\", y=\"y\", alpha=0.05);"
   ],
   "outputs": [
    {
     "output_type": "display_data",
     "data": {
      "image/png": "[encoded data removed]",
      "text/plain": [
       "<Figure size 432x288 with 1 Axes>"
      ]
     },
     "metadata": {
      "needs_background": "light"
     }
    }
   ],
   "metadata": {}
  },
  {
   "cell_type": "code",
   "execution_count": 4,
   "source": [
    "kmeans = sklearn.cluster.KMeans(n_clusters=4)"
   ],
   "outputs": [],
   "metadata": {}
  },
  {
   "cell_type": "code",
   "execution_count": 5,
   "source": [
    "kmeans.fit(df)"
   ],
   "outputs": [
    {
     "output_type": "execute_result",
     "data": {
      "text/plain": [
       "KMeans(n_clusters=4)"
      ]
     },
     "metadata": {},
     "execution_count": 5
    }
   ],
   "metadata": {}
  },
  {
   "cell_type": "code",
   "execution_count": 6,
   "source": [
    "df[\"cluster_id\"] = kmeans.fit_predict(df)"
   ],
   "outputs": [],
   "metadata": {}
  },
  {
   "cell_type": "code",
   "execution_count": 7,
   "source": [
    "df.plot.scatter(x=\"x\", y=\"y\", c=\"cluster_id\", cmap=\"Paired\");"
   ],
   "outputs": [
    {
     "output_type": "display_data",
     "data": {
      "image/png": "[encoded data removed]",
      "text/plain": [
       "<Figure size 432x288 with 2 Axes>"
      ]
     },
     "metadata": {
      "needs_background": "light"
     }
    }
   ],
   "metadata": {}
  },
  {
   "cell_type": "code",
   "execution_count": 8,
   "source": [
    "data_5 = pd.read_csv('may.csv')\n",
    "selected_columns_5 = data_5[[\"lat\",\"lon\"]]\n",
    "df_5 = selected_columns_5.copy()\n",
    "df_5.rename(columns={\"lat\": \"x\",\"lon\": \"y\"},inplace=True)\n",
    "df_5"
   ],
   "outputs": [
    {
     "output_type": "execute_result",
     "data": {
      "text/html": [
       "<div>\n",
       "<style scoped>\n",
       "    .dataframe tbody tr th:only-of-type {\n",
       "        vertical-align: middle;\n",
       "    }\n",
       "\n",
       "    .dataframe tbody tr th {\n",
       "        vertical-align: top;\n",
       "    }\n",
       "\n",
       "    .dataframe thead th {\n",
       "        text-align: right;\n",
       "    }\n",
       "</style>\n",
       "<table border=\"1\" class=\"dataframe\">\n",
       "  <thead>\n",
       "    <tr style=\"text-align: right;\">\n",
       "      <th></th>\n",
       "      <th>x</th>\n",
       "      <th>y</th>\n",
       "    </tr>\n",
       "  </thead>\n",
       "  <tbody>\n",
       "    <tr>\n",
       "      <th>0</th>\n",
       "      <td>43.315037</td>\n",
       "      <td>5.022583</td>\n",
       "    </tr>\n",
       "    <tr>\n",
       "      <th>1</th>\n",
       "      <td>43.313300</td>\n",
       "      <td>5.294631</td>\n",
       "    </tr>\n",
       "    <tr>\n",
       "      <th>2</th>\n",
       "      <td>43.312810</td>\n",
       "      <td>5.000950</td>\n",
       "    </tr>\n",
       "    <tr>\n",
       "      <th>3</th>\n",
       "      <td>43.297380</td>\n",
       "      <td>5.335567</td>\n",
       "    </tr>\n",
       "    <tr>\n",
       "      <th>4</th>\n",
       "      <td>43.312560</td>\n",
       "      <td>5.267387</td>\n",
       "    </tr>\n",
       "    <tr>\n",
       "      <th>...</th>\n",
       "      <td>...</td>\n",
       "      <td>...</td>\n",
       "    </tr>\n",
       "    <tr>\n",
       "      <th>997989</th>\n",
       "      <td>36.853867</td>\n",
       "      <td>-2.409505</td>\n",
       "    </tr>\n",
       "    <tr>\n",
       "      <th>997990</th>\n",
       "      <td>35.104492</td>\n",
       "      <td>-2.324633</td>\n",
       "    </tr>\n",
       "    <tr>\n",
       "      <th>997991</th>\n",
       "      <td>37.193080</td>\n",
       "      <td>-1.833326</td>\n",
       "    </tr>\n",
       "    <tr>\n",
       "      <th>997992</th>\n",
       "      <td>35.381866</td>\n",
       "      <td>-1.250213</td>\n",
       "    </tr>\n",
       "    <tr>\n",
       "      <th>997993</th>\n",
       "      <td>35.354523</td>\n",
       "      <td>-1.320421</td>\n",
       "    </tr>\n",
       "  </tbody>\n",
       "</table>\n",
       "<p>997994 rows × 2 columns</p>\n",
       "</div>"
      ],
      "text/plain": [
       "                x         y\n",
       "0       43.315037  5.022583\n",
       "1       43.313300  5.294631\n",
       "2       43.312810  5.000950\n",
       "3       43.297380  5.335567\n",
       "4       43.312560  5.267387\n",
       "...           ...       ...\n",
       "997989  36.853867 -2.409505\n",
       "997990  35.104492 -2.324633\n",
       "997991  37.193080 -1.833326\n",
       "997992  35.381866 -1.250213\n",
       "997993  35.354523 -1.320421\n",
       "\n",
       "[997994 rows x 2 columns]"
      ]
     },
     "metadata": {},
     "execution_count": 8
    }
   ],
   "metadata": {}
  },
  {
   "cell_type": "code",
   "execution_count": 9,
   "source": [
    "df_5.plot.scatter(x=\"x\", y=\"y\", alpha=0.05);"
   ],
   "outputs": [
    {
     "output_type": "display_data",
     "data": {
      "image/png": "[encoded data removed]",
      "text/plain": [
       "<Figure size 432x288 with 1 Axes>"
      ]
     },
     "metadata": {
      "needs_background": "light"
     }
    }
   ],
   "metadata": {}
  },
  {
   "cell_type": "code",
   "execution_count": 10,
   "source": [
    "kmeans = sklearn.cluster.KMeans(n_clusters=4)\n",
    "kmeans.fit(df_5)\n",
    "df_5[\"cluster_id\"] = kmeans.fit_predict(df_5)"
   ],
   "outputs": [],
   "metadata": {}
  },
  {
   "cell_type": "code",
   "execution_count": 11,
   "source": [
    "df_5.plot.scatter(x=\"x\", y=\"y\", c=\"cluster_id\", cmap=\"Paired\");"
   ],
   "outputs": [
    {
     "output_type": "display_data",
     "data": {
      "image/png": "[encoded data removed]",
      "text/plain": [
       "<Figure size 432x288 with 2 Axes>"
      ]
     },
     "metadata": {
      "needs_background": "light"
     }
    }
   ],
   "metadata": {}
  },
  {
   "cell_type": "code",
   "execution_count": null,
   "source": [],
   "outputs": [],
   "metadata": {}
  }
 ],
 "metadata": {
  "kernelspec": {
   "display_name": "Python 3",
   "language": "python",
   "name": "python3"
  },
  "language_info": {
   "codemirror_mode": {
    "name": "ipython",
    "version": 3
   },
   "file_extension": ".py",
   "mimetype": "text/x-python",
   "name": "python",
   "nbconvert_exporter": "python",
   "pygments_lexer": "ipython3",
   "version": "3.8.5"
  }
 },
 "nbformat": 4,
 "nbformat_minor": 4
}